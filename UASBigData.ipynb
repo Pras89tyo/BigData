{
  "nbformat": 4,
  "nbformat_minor": 0,
  "metadata": {
    "colab": {
      "provenance": [],
      "authorship_tag": "ABX9TyNgqTEl+099eGu2jQG5DBwO",
      "include_colab_link": true
    },
    "kernelspec": {
      "name": "python3",
      "display_name": "Python 3"
    },
    "language_info": {
      "name": "python"
    }
  },
  "cells": [
    {
      "cell_type": "markdown",
      "metadata": {
        "id": "view-in-github",
        "colab_type": "text"
      },
      "source": [
        "<a href=\"https://colab.research.google.com/github/Pras89tyo/BigData/blob/main/UASBigData.ipynb\" target=\"_parent\"><img src=\"https://colab.research.google.com/assets/colab-badge.svg\" alt=\"Open In Colab\"/></a>"
      ]
    },
    {
      "cell_type": "code",
      "source": [
        "!pip install pyspark"
      ],
      "metadata": {
        "id": "qCVn7T2OqrNJ",
        "outputId": "6791fdb7-db9c-4462-c083-b7a7a6c139cc",
        "colab": {
          "base_uri": "https://localhost:8080/"
        }
      },
      "execution_count": 1,
      "outputs": [
        {
          "output_type": "stream",
          "name": "stdout",
          "text": [
            "Requirement already satisfied: pyspark in /usr/local/lib/python3.11/dist-packages (3.5.4)\n",
            "Requirement already satisfied: py4j==0.10.9.7 in /usr/local/lib/python3.11/dist-packages (from pyspark) (0.10.9.7)\n"
          ]
        }
      ]
    },
    {
      "cell_type": "markdown",
      "source": [
        "**Import modules and create spark session**"
      ],
      "metadata": {
        "id": "Fiup01iAzeZi"
      }
    },
    {
      "cell_type": "code",
      "execution_count": 27,
      "metadata": {
        "id": "dRJ-aIBRzQ0Q"
      },
      "outputs": [],
      "source": [
        "#import modules\n",
        "from pyspark.sql import SparkSession\n",
        "from pyspark.ml.feature import Tokenizer, StopWordsRemover, CountVectorizer, IDF\n",
        "from pyspark.ml.classification import LogisticRegression\n",
        "from pyspark.ml import Pipeline\n",
        "from pyspark.sql.functions import col, when\n",
        "from pyspark.ml.feature import StringIndexer\n",
        "from pyspark.ml.evaluation import MulticlassClassificationEvaluator\n",
        "\n",
        "# Inisialisasi Spark Session\n",
        "spark = SparkSession.builder \\\n",
        "    .appName(\"MarketplaceSentimentAnalysis\") \\\n",
        "    .getOrCreate()"
      ]
    },
    {
      "cell_type": "markdown",
      "source": [
        "**1. Load And Read Data**"
      ],
      "metadata": {
        "id": "jDD8MuYy0YR4"
      }
    },
    {
      "cell_type": "code",
      "source": [
        "print(\"Step 1: Load dan Read Data\")\n",
        "# Baca dataset, specify delimiter to correctly parse the CSV\n",
        "df = spark.read.csv(\"/content/dataset_final.csv\", header=True, inferSchema=True, sep=\";\") # Added sep=\";\""
      ],
      "metadata": {
        "id": "jvC6l6aj0Xel",
        "outputId": "17cf5fce-0fcb-4f34-972b-0c7ef4e49215",
        "colab": {
          "base_uri": "https://localhost:8080/"
        }
      },
      "execution_count": 28,
      "outputs": [
        {
          "output_type": "stream",
          "name": "stdout",
          "text": [
            "Step 1: Load dan Read Data\n"
          ]
        }
      ]
    },
    {
      "cell_type": "markdown",
      "source": [
        "**Show Structure and Amount Data**"
      ],
      "metadata": {
        "id": "QnXToFxs1CGF"
      }
    },
    {
      "cell_type": "code",
      "source": [
        "# Menampilkan struktur data\n",
        "print(\"\\nStruktur Dataset:\")\n",
        "df.printSchema()\n",
        "\n",
        "# Menampilkan jumlah data\n",
        "print(\"\\nJumlah total data:\", df.count())"
      ],
      "metadata": {
        "id": "vQvaKGTs1F2S",
        "outputId": "b1a8aaeb-c25b-40fd-d1d0-a2fe8135f271",
        "colab": {
          "base_uri": "https://localhost:8080/"
        }
      },
      "execution_count": 29,
      "outputs": [
        {
          "output_type": "stream",
          "name": "stdout",
          "text": [
            "\n",
            "Struktur Dataset:\n",
            "root\n",
            " |-- userName: string (nullable = true)\n",
            " |-- score: integer (nullable = true)\n",
            " |-- content: string (nullable = true)\n",
            " |-- Layanan: integer (nullable = true)\n",
            " |-- Fitur: integer (nullable = true)\n",
            " |-- Kebermanfaatan: integer (nullable = true)\n",
            " |-- Bisnis: integer (nullable = true)\n",
            " |-- Non Aspek: integer (nullable = true)\n",
            "\n",
            "\n",
            "Jumlah total data: 3000\n"
          ]
        }
      ]
    },
    {
      "cell_type": "markdown",
      "source": [
        "**Show First line Data**"
      ],
      "metadata": {
        "id": "ECEHU8bx2eqM"
      }
    },
    {
      "cell_type": "code",
      "source": [
        "# Menampilkan beberapa baris pertama\n",
        "print(\"\\nContoh 5 baris pertama:\")\n",
        "df.show(5, truncate=False)"
      ],
      "metadata": {
        "id": "cy-M6Sch2k-v",
        "outputId": "4bd315fb-3019-479e-878e-a2485f8b2f89",
        "colab": {
          "base_uri": "https://localhost:8080/"
        }
      },
      "execution_count": 30,
      "outputs": [
        {
          "output_type": "stream",
          "name": "stdout",
          "text": [
            "\n",
            "Contoh 5 baris pertama:\n",
            "+-------------+-----+---------------------------------------------------------------------------------------------------------------------------------------------------------------------+-------+-----+--------------+------+---------+\n",
            "|userName     |score|content                                                                                                                                                              |Layanan|Fitur|Kebermanfaatan|Bisnis|Non Aspek|\n",
            "+-------------+-----+---------------------------------------------------------------------------------------------------------------------------------------------------------------------+-------+-----+--------------+------+---------+\n",
            "|Kusyati Nisa |5    |Mantaf skali mudah juga buat ikut pelatihan prakerja sangat mudah skali 👍sungguh bermanfaat bagi kami                                                               |0      |0    |1             |0     |0        |\n",
            "|Nurul Latifah|5    |keren buat beli kartu prakerjaa                                                                                                                                      |0      |0    |0             |0     |1        |\n",
            "|Lukman Hadi  |1    |Lapak saya dibekukan, sudah komplain tidak ada tanggapan, tiba tiba ditutup oleh sistem, gajelas                                                                     |-1     |0    |0             |0     |0        |\n",
            "|Felisona Hulu|1    |Benar2 mengecewakan.Respon sangat lama.pokok nya tidak d rekomended                                                                                                  |-1     |0    |0             |0     |0        |\n",
            "|Don faizal   |5    |Ini adalah salah satu tempat terbaik untuk belanja online ,apabila ada masalah antara penjual dan pembeli ,bukalapak cukup proactive sebagai pengambil solusi terbaik|1      |0    |0             |0     |0        |\n",
            "+-------------+-----+---------------------------------------------------------------------------------------------------------------------------------------------------------------------+-------+-----+--------------+------+---------+\n",
            "only showing top 5 rows\n",
            "\n"
          ]
        }
      ]
    },
    {
      "cell_type": "markdown",
      "source": [
        "**creating sentiment column based on the score column**"
      ],
      "metadata": {
        "id": "6HS2RyjW-2Be"
      }
    },
    {
      "cell_type": "code",
      "source": [
        "# Creating sentiment column based on the score column\n",
        "df = df.withColumn(\"sentiment\",\n",
        "    when(col(\"score\") >= 4, \"positive\")\n",
        "    .when(col(\"score\") == 3, \"neutral\")\n",
        "    .otherwise(\"negative\")\n",
        ")"
      ],
      "metadata": {
        "id": "61z7u418-4B2"
      },
      "execution_count": 31,
      "outputs": []
    },
    {
      "cell_type": "markdown",
      "source": [
        "**2. Split Data**"
      ],
      "metadata": {
        "id": "GMw0drC6qUgA"
      }
    },
    {
      "cell_type": "code",
      "source": [
        "#Split Data\n",
        "print(\"\\nStep 2: Split Data Training dan Testing\")\n",
        "(training_data, test_data) = df.randomSplit([0.8, 0.2], seed=42)\n",
        "print(f\"Jumlah data training: {training_data.count()}\")\n",
        "print(f\"Jumlah data testing: {test_data.count()}\")"
      ],
      "metadata": {
        "id": "6_Ue4G3fqdCI",
        "outputId": "c2c12de4-8cc2-4783-f4be-87307ef271c2",
        "colab": {
          "base_uri": "https://localhost:8080/"
        }
      },
      "execution_count": 32,
      "outputs": [
        {
          "output_type": "stream",
          "name": "stdout",
          "text": [
            "\n",
            "Step 2: Split Data Training dan Testing\n",
            "Jumlah data training: 2451\n",
            "Jumlah data testing: 549\n"
          ]
        }
      ]
    },
    {
      "cell_type": "markdown",
      "source": [
        "**3. Tokenisasi**"
      ],
      "metadata": {
        "id": "IIj_OAYHrJWz"
      }
    },
    {
      "cell_type": "code",
      "source": [
        "print(\"\\nStep 3: Tokenisasi\")\n",
        "# Menggunakan kolom 'content' sebagai input\n",
        "tokenizer = Tokenizer(inputCol=\"content\", outputCol=\"words\")\n",
        "tokenized = tokenizer.transform(df)\n",
        "print(\"\\nHasil tokenisasi (5 baris pertama):\")\n",
        "tokenized.select(\"content\", \"words\").show(5, truncate=False)"
      ],
      "metadata": {
        "id": "bFLy8uJErSAm",
        "outputId": "bf61eccc-83d3-4cbd-b0d4-7061ab2a7c7c",
        "colab": {
          "base_uri": "https://localhost:8080/"
        }
      },
      "execution_count": 33,
      "outputs": [
        {
          "output_type": "stream",
          "name": "stdout",
          "text": [
            "\n",
            "Step 3: Tokenisasi\n",
            "\n",
            "Hasil tokenisasi (5 baris pertama):\n",
            "+---------------------------------------------------------------------------------------------------------------------------------------------------------------------+---------------------------------------------------------------------------------------------------------------------------------------------------------------------------------------------+\n",
            "|content                                                                                                                                                              |words                                                                                                                                                                                        |\n",
            "+---------------------------------------------------------------------------------------------------------------------------------------------------------------------+---------------------------------------------------------------------------------------------------------------------------------------------------------------------------------------------+\n",
            "|Mantaf skali mudah juga buat ikut pelatihan prakerja sangat mudah skali 👍sungguh bermanfaat bagi kami                                                               |[mantaf, skali, mudah, juga, buat, ikut, pelatihan, prakerja, sangat, mudah, skali, 👍sungguh, bermanfaat, bagi, kami]                                                                       |\n",
            "|keren buat beli kartu prakerjaa                                                                                                                                      |[keren, buat, beli, kartu, prakerjaa]                                                                                                                                                        |\n",
            "|Lapak saya dibekukan, sudah komplain tidak ada tanggapan, tiba tiba ditutup oleh sistem, gajelas                                                                     |[lapak, saya, dibekukan,, sudah, komplain, tidak, ada, tanggapan,, tiba, tiba, ditutup, oleh, sistem,, gajelas]                                                                              |\n",
            "|Benar2 mengecewakan.Respon sangat lama.pokok nya tidak d rekomended                                                                                                  |[benar2, mengecewakan.respon, sangat, lama.pokok, nya, tidak, d, rekomended]                                                                                                                 |\n",
            "|Ini adalah salah satu tempat terbaik untuk belanja online ,apabila ada masalah antara penjual dan pembeli ,bukalapak cukup proactive sebagai pengambil solusi terbaik|[ini, adalah, salah, satu, tempat, terbaik, untuk, belanja, online, ,apabila, ada, masalah, antara, penjual, dan, pembeli, ,bukalapak, cukup, proactive, sebagai, pengambil, solusi, terbaik]|\n",
            "+---------------------------------------------------------------------------------------------------------------------------------------------------------------------+---------------------------------------------------------------------------------------------------------------------------------------------------------------------------------------------+\n",
            "only showing top 5 rows\n",
            "\n"
          ]
        }
      ]
    },
    {
      "cell_type": "markdown",
      "source": [
        "**4. Penghilangan Stopwords**"
      ],
      "metadata": {
        "id": "q4tkHGt3reb_"
      }
    },
    {
      "cell_type": "code",
      "source": [
        "print(\"\\nStep 4: Penghilangan Stopwords\")\n",
        "# Stopwords bahasa Indonesia yang diperluas\n",
        "indonesian_stopwords = [\n",
        "    \"yang\", \"di\", \"ke\", \"dari\", \"pada\", \"dalam\", \"untuk\", \"dengan\", \"dan\", \"atau\",\n",
        "    \"ini\", \"itu\", \"juga\", \"sudah\", \"saya\", \"anda\", \"dia\", \"mereka\", \"kita\", \"akan\",\n",
        "    \"bisa\", \"ada\", \"tidak\", \"saat\", \"oleh\", \"setelah\", \"para\", \"seperti\", \"saat\",\n",
        "    \"hal\", \"ketika\", \"bagi\", \"sampai\", \"tentang\", \"hingga\", \"sebuah\", \"yakni\",\n",
        "    \"maupun\", \"selama\", \"dimana\", \"tetap\", \"masih\", \"lalu\", \"telah\", \"tapi\",\n",
        "    \"nya\", \"ya\", \"sih\", \"kok\", \"gak\", \"ga\", \"tuh\", \"si\", \"deh\", \"tau\", \"kan\",\n",
        "    \"kalo\", \"kalau\", \"dalam\", \"nya\", \"yg\", \"jd\", \"dgn\", \"gue\", \"aja\", \"dan\"\n",
        "]\n",
        "remover = StopWordsRemover(inputCol=\"words\", outputCol=\"filtered_words\", stopWords=indonesian_stopwords)\n",
        "filtered = remover.transform(tokenized)\n",
        "print(\"\\nHasil penghilangan stopwords (5 baris pertama):\")\n",
        "filtered.select(\"words\", \"filtered_words\").show(5, truncate=False)"
      ],
      "metadata": {
        "id": "ah6CLaCzriAI",
        "outputId": "afba3ef1-c104-430a-c21f-628d1460128e",
        "colab": {
          "base_uri": "https://localhost:8080/"
        }
      },
      "execution_count": 34,
      "outputs": [
        {
          "output_type": "stream",
          "name": "stdout",
          "text": [
            "\n",
            "Step 4: Penghilangan Stopwords\n",
            "\n",
            "Hasil penghilangan stopwords (5 baris pertama):\n",
            "+---------------------------------------------------------------------------------------------------------------------------------------------------------------------------------------------+-----------------------------------------------------------------------------------------------------------------------------------------------------------------------+\n",
            "|words                                                                                                                                                                                        |filtered_words                                                                                                                                                         |\n",
            "+---------------------------------------------------------------------------------------------------------------------------------------------------------------------------------------------+-----------------------------------------------------------------------------------------------------------------------------------------------------------------------+\n",
            "|[mantaf, skali, mudah, juga, buat, ikut, pelatihan, prakerja, sangat, mudah, skali, 👍sungguh, bermanfaat, bagi, kami]                                                                       |[mantaf, skali, mudah, buat, ikut, pelatihan, prakerja, sangat, mudah, skali, 👍sungguh, bermanfaat, kami]                                                             |\n",
            "|[keren, buat, beli, kartu, prakerjaa]                                                                                                                                                        |[keren, buat, beli, kartu, prakerjaa]                                                                                                                                  |\n",
            "|[lapak, saya, dibekukan,, sudah, komplain, tidak, ada, tanggapan,, tiba, tiba, ditutup, oleh, sistem,, gajelas]                                                                              |[lapak, dibekukan,, komplain, tanggapan,, tiba, tiba, ditutup, sistem,, gajelas]                                                                                       |\n",
            "|[benar2, mengecewakan.respon, sangat, lama.pokok, nya, tidak, d, rekomended]                                                                                                                 |[benar2, mengecewakan.respon, sangat, lama.pokok, d, rekomended]                                                                                                       |\n",
            "|[ini, adalah, salah, satu, tempat, terbaik, untuk, belanja, online, ,apabila, ada, masalah, antara, penjual, dan, pembeli, ,bukalapak, cukup, proactive, sebagai, pengambil, solusi, terbaik]|[adalah, salah, satu, tempat, terbaik, belanja, online, ,apabila, masalah, antara, penjual, pembeli, ,bukalapak, cukup, proactive, sebagai, pengambil, solusi, terbaik]|\n",
            "+---------------------------------------------------------------------------------------------------------------------------------------------------------------------------------------------+-----------------------------------------------------------------------------------------------------------------------------------------------------------------------+\n",
            "only showing top 5 rows\n",
            "\n"
          ]
        }
      ]
    },
    {
      "cell_type": "markdown",
      "source": [
        "**5. convertion to numeriks**"
      ],
      "metadata": {
        "id": "WX3HFjyUthrj"
      }
    },
    {
      "cell_type": "code",
      "source": [
        "# 5. Konversi Teks ke Numerik\n",
        "print(\"\\nStep 5: Konversi Teks ke Numerik\")\n",
        "vectorizer = CountVectorizer(inputCol=\"filtered_words\", outputCol=\"raw_features\", minDF=2.0)\n",
        "idf = IDF(inputCol=\"raw_features\", outputCol=\"features\")\n",
        "\n",
        "# Konversi label sentiment ke numerik\n",
        "label_indexer = StringIndexer(inputCol=\"sentiment\", outputCol=\"label\")"
      ],
      "metadata": {
        "id": "RgQr85aotqkh",
        "outputId": "9b8953c0-6eaa-4b19-8274-b188bb6e2100",
        "colab": {
          "base_uri": "https://localhost:8080/"
        }
      },
      "execution_count": 35,
      "outputs": [
        {
          "output_type": "stream",
          "name": "stdout",
          "text": [
            "\n",
            "Step 5: Konversi Teks ke Numerik\n"
          ]
        }
      ]
    },
    {
      "cell_type": "markdown",
      "source": [
        "**6. Modeling and Train Model**"
      ],
      "metadata": {
        "id": "r1DrGsQVt2rK"
      }
    },
    {
      "cell_type": "code",
      "source": [
        "# 6. Pemodelan\n",
        "print(\"\\nStep 6: Pemodelan dengan Logistic Regression\")\n",
        "lr = LogisticRegression(maxIter=20, regParam=0.3, elasticNetParam=0)\n",
        "\n",
        "# Membuat pipeline\n",
        "pipeline = Pipeline(stages=[\n",
        "    tokenizer,\n",
        "    remover,\n",
        "    vectorizer,\n",
        "    idf,\n",
        "    label_indexer,\n",
        "    lr\n",
        "])\n",
        "# Melatih model\n",
        "print(\"\\nMelatih model...\")\n",
        "model = pipeline.fit(training_data)"
      ],
      "metadata": {
        "id": "yoRtpL5St7vc",
        "outputId": "cfa2beca-1db3-4c9b-8354-508ce2af983a",
        "colab": {
          "base_uri": "https://localhost:8080/"
        }
      },
      "execution_count": 36,
      "outputs": [
        {
          "output_type": "stream",
          "name": "stdout",
          "text": [
            "\n",
            "Step 6: Pemodelan dengan Logistic Regression\n",
            "\n",
            "Melatih model...\n"
          ]
        }
      ]
    },
    {
      "cell_type": "markdown",
      "source": [
        "**7. Prediction**"
      ],
      "metadata": {
        "id": "OAO6KMs6uPnN"
      }
    },
    {
      "cell_type": "code",
      "source": [
        "# 7. Prediksi\n",
        "print(\"\\nStep 7: Prediksi\")\n",
        "predictions = model.transform(test_data)\n",
        "print(\"\\nHasil prediksi (5 baris pertama):\")\n",
        "predictions.select(\"content\", \"score\", \"sentiment\", \"prediction\").show(5, truncate=False)"
      ],
      "metadata": {
        "id": "Nrwa2_5muUHp",
        "outputId": "2a9ef1a4-1b27-4fc6-8745-9de848820f58",
        "colab": {
          "base_uri": "https://localhost:8080/"
        }
      },
      "execution_count": 37,
      "outputs": [
        {
          "output_type": "stream",
          "name": "stdout",
          "text": [
            "\n",
            "Step 7: Prediksi\n",
            "\n",
            "Hasil prediksi (5 baris pertama):\n",
            "+-----------------------------------------------------------------------------------------------------------------------------------------------------------------------------------------------------------------------------------------------------+-----+---------+----------+\n",
            "|content                                                                                                                                                                                                                                              |score|sentiment|prediction|\n",
            "+-----------------------------------------------------------------------------------------------------------------------------------------------------------------------------------------------------------------------------------------------------+-----+---------+----------+\n",
            "|Terbaik dari aplikasi yg lainnya...Alhamdulillah penghasilan bertambah ..yg saya suka dari aplikasi ini ada fitur untung pencatatanya baik keuntungan , catat hutang dan lain sebagainya, bonank26 #WarungNaikKelas                                  |5    |positive |0.0       |\n",
            "|\"Udah jarang pake ini karena aplikasinya berat banget, harganya pake \"\"RiBu\"\" pula, tampilannya kurang bagus bikin bingung harus adaptasi lagi. Pembeli itu ga terlalu pentingkan tampilan baru tapi yg penting cepat, mudah, nyaman dan aman. 🤷‍♂️\"|2    |negative |0.0       |\n",
            "|Top proses pembayaran tagihan cepat.                                                                                                                                                                                                                 |5    |positive |0.0       |\n",
            "|Aplikasi bukalapak jelek, membekukan bukadompet secara sepihak, teman - teman sebaiknya jangan instal aplikasi busuk ini                                                                                                                             |1    |negative |1.0       |\n",
            "|Tiba-tiba akun dibekukan gara-gara jual produk digital.. Mengapa ada difitur produk digital kalo akhirnya di bekukan                                                                                                                                 |1    |negative |1.0       |\n",
            "+-----------------------------------------------------------------------------------------------------------------------------------------------------------------------------------------------------------------------------------------------------+-----+---------+----------+\n",
            "only showing top 5 rows\n",
            "\n"
          ]
        }
      ]
    },
    {
      "cell_type": "markdown",
      "source": [
        "**8. Evaluation**"
      ],
      "metadata": {
        "id": "W1iQ4rKQuorr"
      }
    },
    {
      "cell_type": "code",
      "source": [
        "# 8. Evaluasi\n",
        "print(\"\\nStep 8: Evaluasi\")\n",
        "evaluator_accuracy = MulticlassClassificationEvaluator(\n",
        "    labelCol=\"label\",\n",
        "    predictionCol=\"prediction\",\n",
        "    metricName=\"accuracy\"\n",
        ")\n",
        "accuracy = evaluator_accuracy.evaluate(predictions)\n",
        "\n",
        "evaluator_precision = MulticlassClassificationEvaluator(\n",
        "    labelCol=\"label\",\n",
        "    predictionCol=\"prediction\",\n",
        "    metricName=\"weightedPrecision\"\n",
        ")\n",
        "precision = evaluator_precision.evaluate(predictions)\n",
        "\n",
        "evaluator_recall = MulticlassClassificationEvaluator(\n",
        "    labelCol=\"label\",\n",
        "    predictionCol=\"prediction\",\n",
        "    metricName=\"weightedRecall\"\n",
        ")\n",
        "recall = evaluator_recall.evaluate(predictions)\n",
        "\n",
        "print(f\"\\nMetrik Evaluasi:\")\n",
        "print(f\"Accuracy: {accuracy:.4f}\")\n",
        "print(f\"Precision: {precision:.4f}\")\n",
        "print(f\"Recall: {recall:.4f}\")\n",
        "\n",
        "# Menampilkan distribusi sentimen\n",
        "print(\"\\nDistribusi Sentimen:\")\n",
        "df.groupBy(\"sentiment\").count().show()\n",
        "\n",
        "# Menghentikan Spark session\n",
        "spark.stop()"
      ],
      "metadata": {
        "id": "mqp_haoWusZ-",
        "outputId": "8ca235a4-4036-419b-b379-78c9169cb962",
        "colab": {
          "base_uri": "https://localhost:8080/"
        }
      },
      "execution_count": 38,
      "outputs": [
        {
          "output_type": "stream",
          "name": "stdout",
          "text": [
            "\n",
            "Step 8: Evaluasi\n",
            "\n",
            "Metrik Evaluasi:\n",
            "Accuracy: 0.7887\n",
            "Precision: 0.7390\n",
            "Recall: 0.7887\n",
            "\n",
            "Distribusi Sentimen:\n",
            "+---------+-----+\n",
            "|sentiment|count|\n",
            "+---------+-----+\n",
            "| positive| 1738|\n",
            "|  neutral|  199|\n",
            "| negative| 1063|\n",
            "+---------+-----+\n",
            "\n"
          ]
        }
      ]
    }
  ]
}
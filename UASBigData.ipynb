{
  "nbformat": 4,
  "nbformat_minor": 0,
  "metadata": {
    "colab": {
      "provenance": [],
      "authorship_tag": "ABX9TyPCScK38Pd2x7WzEY1TGQ1a",
      "include_colab_link": true
    },
    "kernelspec": {
      "name": "python3",
      "display_name": "Python 3"
    },
    "language_info": {
      "name": "python"
    }
  },
  "cells": [
    {
      "cell_type": "markdown",
      "metadata": {
        "id": "view-in-github",
        "colab_type": "text"
      },
      "source": [
        "<a href=\"https://colab.research.google.com/github/Pras89tyo/BigData/blob/main/UASBigData.ipynb\" target=\"_parent\"><img src=\"https://colab.research.google.com/assets/colab-badge.svg\" alt=\"Open In Colab\"/></a>"
      ]
    },
    {
      "cell_type": "markdown",
      "source": [
        "**Import modules and create spark session**"
      ],
      "metadata": {
        "id": "Fiup01iAzeZi"
      }
    },
    {
      "cell_type": "code",
      "execution_count": 19,
      "metadata": {
        "id": "dRJ-aIBRzQ0Q"
      },
      "outputs": [],
      "source": [
        "#import modules\n",
        "from pyspark.sql.types import *\n",
        "from pyspark.sql.functions import *\n",
        "from pyspark.ml.classification import LogisticRegression\n",
        "from pyspark.ml.feature import HashingTF, Tokenizer, StopWordsRemover\n",
        "# Import SparkSession\n",
        "from pyspark.sql import SparkSession\n",
        "\n",
        "#create Spark session\n",
        "appName = \"Sentiment Analysis in Spark\"\n",
        "spark = SparkSession \\\n",
        "    .builder \\\n",
        "    .appName(appName) \\\n",
        "    .config(\"spark.some.config.option\", \"some-value\") \\\n",
        "    .getOrCreate()"
      ]
    },
    {
      "cell_type": "markdown",
      "source": [
        "**Read data file into Spark dataFrame**"
      ],
      "metadata": {
        "id": "jDD8MuYy0YR4"
      }
    },
    {
      "cell_type": "code",
      "source": [
        "#read csv file into dataFrame with automatically inferred schema\n",
        "amazon_csv = spark.read.csv('/content/data/Reviews.csv', inferSchema=True, header=True)\n",
        "amazon_csv.show(truncate=False, n=5)"
      ],
      "metadata": {
        "id": "jvC6l6aj0Xel",
        "outputId": "fbbab050-cbd7-4123-f0c0-469e8ce5ab6e",
        "colab": {
          "base_uri": "https://localhost:8080/"
        }
      },
      "execution_count": 27,
      "outputs": [
        {
          "output_type": "stream",
          "name": "stdout",
          "text": [
            "+---+----------+--------------+-----------------------------------+--------------------+----------------------+-----+----------+-------------------------+--------------------------------------------------------------------------------------------------------------------------------------------------------------------------------------------------------------------------------------------------------------------------------------------------------------------------------------------------------------------------------------------------+\n",
            "|Id |ProductId |UserId        |ProfileName                        |HelpfulnessNumerator|HelpfulnessDenominator|Score|Time      |Summary                  |Text                                                                                                                                                                                                                                                                                                                                                                                              |\n",
            "+---+----------+--------------+-----------------------------------+--------------------+----------------------+-----+----------+-------------------------+--------------------------------------------------------------------------------------------------------------------------------------------------------------------------------------------------------------------------------------------------------------------------------------------------------------------------------------------------------------------------------------------------+\n",
            "|1  |B001E4KFG0|A3SGXH7AUHU8GW|delmartian                         |1                   |1                     |5    |1303862400|Good Quality Dog Food    |I have bought several of the Vitality canned dog food products and have found them all to be of good quality. The product looks more like a stew than a processed meat and it smells better. My Labrador is finicky and she appreciates this product better than  most.                                                                                                                           |\n",
            "|2  |B00813GRG4|A1D87F6ZCVE5NK|dll pa                             |0                   |0                     |1    |1346976000|Not as Advertised        |\"Product arrived labeled as Jumbo Salted Peanuts...the peanuts were actually small sized unsalted. Not sure if this was an error or if the vendor intended to represent the product as \"\"Jumbo\"\".\"                                                                                                                                                                                                |\n",
            "|3  |B000LQOCH0|ABXLMWJIXXAIN |\"Natalia Corres \"\"Natalia Corres\"\"\"|1                   |1                     |4    |1219017600|\"\"\"Delight\"\" says it all\"|\"This is a confection that has been around a few centuries.  It is a light, pillowy citrus gelatin with nuts - in this case Filberts. And it is cut into tiny squares and then liberally coated with powdered sugar.  And it is a tiny mouthful of heaven.  Not too chewy, and very flavorful.  I highly recommend this yummy treat.  If you are familiar with the story of C.S. Lewis' \"\"The Lion|\n",
            "|4  |B000UA0QIQ|A395BORC6FGVXV|Karl                               |3                   |3                     |2    |1307923200|Cough Medicine           |If you are looking for the secret ingredient in Robitussin I believe I have found it.  I got this in addition to the Root Beer Extract I ordered (which was good) and made some cherry soda.  The flavor is very medicinal.                                                                                                                                                                       |\n",
            "|5  |B006K2ZZ7K|A1UQRSCLF8GW1T|\"Michael D. Bigham \"\"M. Wassir\"\"\"  |0                   |0                     |5    |1350777600|Great taffy              |Great taffy at a great price.  There was a wide assortment of yummy taffy.  Delivery was very quick.  If your a taffy lover, this is a deal.                                                                                                                                                                                                                                                      |\n",
            "+---+----------+--------------+-----------------------------------+--------------------+----------------------+-----+----------+-------------------------+--------------------------------------------------------------------------------------------------------------------------------------------------------------------------------------------------------------------------------------------------------------------------------------------------------------------------------------------------------------------------------------------------+\n",
            "only showing top 5 rows\n",
            "\n"
          ]
        }
      ]
    },
    {
      "cell_type": "markdown",
      "source": [
        "**Select the related data**"
      ],
      "metadata": {
        "id": "QnXToFxs1CGF"
      }
    },
    {
      "cell_type": "code",
      "source": [
        "#select only \"SentimentText\" and \"Sentiment\" column,\n",
        "#and cast \"Sentiment\" column data into integer\n",
        "data = amazon_csv.select(\"Text\", col(\"HelpfulnessNumerator\").cast(\"Int\").alias(\"label\"))\n",
        "data.show(truncate = False,n=5)"
      ],
      "metadata": {
        "id": "vQvaKGTs1F2S",
        "outputId": "c8d7eb5c-19d3-4983-c886-36bf3c1a2282",
        "colab": {
          "base_uri": "https://localhost:8080/"
        }
      },
      "execution_count": 40,
      "outputs": [
        {
          "output_type": "stream",
          "name": "stdout",
          "text": [
            "+--------------------------------------------------------------------------------------------------------------------------------------------------------------------------------------------------------------------------------------------------------------------------------------------------------------------------------------------------------------------------------------------------+-----+\n",
            "|Text                                                                                                                                                                                                                                                                                                                                                                                              |label|\n",
            "+--------------------------------------------------------------------------------------------------------------------------------------------------------------------------------------------------------------------------------------------------------------------------------------------------------------------------------------------------------------------------------------------------+-----+\n",
            "|I have bought several of the Vitality canned dog food products and have found them all to be of good quality. The product looks more like a stew than a processed meat and it smells better. My Labrador is finicky and she appreciates this product better than  most.                                                                                                                           |1    |\n",
            "|\"Product arrived labeled as Jumbo Salted Peanuts...the peanuts were actually small sized unsalted. Not sure if this was an error or if the vendor intended to represent the product as \"\"Jumbo\"\".\"                                                                                                                                                                                                |0    |\n",
            "|\"This is a confection that has been around a few centuries.  It is a light, pillowy citrus gelatin with nuts - in this case Filberts. And it is cut into tiny squares and then liberally coated with powdered sugar.  And it is a tiny mouthful of heaven.  Not too chewy, and very flavorful.  I highly recommend this yummy treat.  If you are familiar with the story of C.S. Lewis' \"\"The Lion|1    |\n",
            "|If you are looking for the secret ingredient in Robitussin I believe I have found it.  I got this in addition to the Root Beer Extract I ordered (which was good) and made some cherry soda.  The flavor is very medicinal.                                                                                                                                                                       |3    |\n",
            "|Great taffy at a great price.  There was a wide assortment of yummy taffy.  Delivery was very quick.  If your a taffy lover, this is a deal.                                                                                                                                                                                                                                                      |0    |\n",
            "+--------------------------------------------------------------------------------------------------------------------------------------------------------------------------------------------------------------------------------------------------------------------------------------------------------------------------------------------------------------------------------------------------+-----+\n",
            "only showing top 5 rows\n",
            "\n"
          ]
        }
      ]
    },
    {
      "cell_type": "markdown",
      "source": [
        "**Divide data into training and testing data**"
      ],
      "metadata": {
        "id": "ECEHU8bx2eqM"
      }
    },
    {
      "cell_type": "code",
      "source": [
        "#divide data, 70% for training, 30% for testing\n",
        "dividedData = data.randomSplit([0.7, 0.3])\n",
        "trainingData = dividedData[0] #index 0 = data training\n",
        "testingData = dividedData[1] #index 1 = data testing\n",
        "train_rows = trainingData.count()\n",
        "test_rows = testingData.count()\n",
        "print (\"Training data rows:\", train_rows, \"; Testing data rows:\", test_rows)"
      ],
      "metadata": {
        "id": "cy-M6Sch2k-v",
        "outputId": "e3bf42f9-b57b-4bec-c4ae-e6f9b7b441da",
        "colab": {
          "base_uri": "https://localhost:8080/"
        }
      },
      "execution_count": 41,
      "outputs": [
        {
          "output_type": "stream",
          "name": "stdout",
          "text": [
            "Training data rows: 398272 ; Testing data rows: 170182\n"
          ]
        }
      ]
    },
    {
      "cell_type": "markdown",
      "source": [
        "**Prepare training data**"
      ],
      "metadata": {
        "id": "6HS2RyjW-2Be"
      }
    },
    {
      "cell_type": "code",
      "source": [
        "# Now proceed with tokenization\n",
        "tokenizer = Tokenizer(inputCol=\"Text\", outputCol=\"SentimentWords\")\n",
        "tokenizedTrain = tokenizer.transform(trainingData)\n",
        "tokenizedTrain.show(truncate=False, n=5)"
      ],
      "metadata": {
        "id": "61z7u418-4B2",
        "outputId": "a844dcb1-39be-41b3-a5f8-cf5925f4d8a6",
        "colab": {
          "base_uri": "https://localhost:8080/"
        }
      },
      "execution_count": 45,
      "outputs": [
        {
          "output_type": "stream",
          "name": "stdout",
          "text": [
            "+------------------------+-----+-------------------------------+\n",
            "|Text                    |label|SentimentWords                 |\n",
            "+------------------------+-----+-------------------------------+\n",
            "|                        |NULL |[]                             |\n",
            "|                        |NULL |[]                             |\n",
            "|                        |NULL |[]                             |\n",
            "|                        |NULL |[]                             |\n",
            "| 0% of what you don't\"\"\"|1    |[, 0%, of, what, you, don't\"\"\"]|\n",
            "+------------------------+-----+-------------------------------+\n",
            "only showing top 5 rows\n",
            "\n"
          ]
        }
      ]
    }
  ]
}